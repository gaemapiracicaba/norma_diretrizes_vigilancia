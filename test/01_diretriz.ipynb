{
 "cells": [
  {
   "cell_type": "markdown",
   "id": "817d2ae0-bfeb-4e60-90ab-2ef2d2699833",
   "metadata": {
    "tags": [
     "remove_cell"
    ]
   },
   "source": [
    "<br>\n",
    "\n",
    "# Introdução"
   ]
  },
  {
   "cell_type": "code",
   "execution_count": null,
   "id": "040d3dae-dab2-49d8-93ac-a190056cec33",
   "metadata": {},
   "outputs": [],
   "source": [
    "#!pip3 install kaleido --upgrade"
   ]
  },
  {
   "cell_type": "code",
   "execution_count": null,
   "id": "628bc6ea-0d19-4ea3-b877-d69184b1ac1a",
   "metadata": {},
   "outputs": [],
   "source": [
    "import numpy as np\n",
    "import pandas as pd\n",
    "import plotly.graph_objects as go"
   ]
  },
  {
   "cell_type": "code",
   "execution_count": null,
   "id": "600f9743-b358-45f7-bd11-ba748296b8a6",
   "metadata": {
    "tags": [
     "remove_cell"
    ]
   },
   "outputs": [],
   "source": [
    "from paths import *"
   ]
  },
  {
   "cell_type": "markdown",
   "id": "ebe21449",
   "metadata": {
    "pycharm": {
     "name": "#%% md\n"
    }
   },
   "source": [
    "<br>\n",
    "\n",
    "## Diretriz\n",
    "\n",
    "<br>\n",
    "\n",
    "De acordo com a [Diretriz Nacional do Plano de Amostragem da Vigilância da Qualidade da Água para Consumo Humano da Vigilância Sanitária](http://bvsms.saude.gov.br/bvs/publicacoes/diretriz_nacional_plano_amostragem_agua.pdf), o número mínimo de amostras mensais de alguns parâmetros (cloro residual, turbidez, coliformes, *E. coli* e fluoreto), a ser realizada pela vigilância sanitária municipal, varia de acordo com a população.\n"
   ]
  },
  {
   "cell_type": "markdown",
   "id": "b8a9ab15-4e3a-469d-8ce5-723a82941e1f",
   "metadata": {
    "jp-MarkdownHeadingCollapsed": true,
    "tags": [
     "remove_cell"
    ]
   },
   "source": [
    "### Número de Amostras para Cloro Residual, Turbidez, Coliformes, *E. coli*\n",
    "\n",
    "As amostras de cloro residual são feitas pelo prestador do serviço de abastecimento público (controle), bem como pela vigilância sanitária municipal (vigilância), sendo esse último o principal foco destas análises.\n",
    "\n",
    "![Tabela 1](https://i.imgur.com/6PJNeCp.png)\n",
    "\n",
    "<br>\n",
    "\n",
    "Ainda, de acordo com as diretrizes, *o número mínimo mensal de análises previsto para o Plano de Amostragem Básico é definido em função das faixas populacionais e constitui um quantitativo único a ser distribuído para o monitoramento da qualidade da água referente às três formas de abastecimento de água (SAA, SAC e SAI)*. Portanto, para analisar se a vigilância sanitária municipal segue as diretrizes estipuladas pelo Ministério da Saúde para amostragem de cloro residual, não será feito, nesse momento, detalhamento sobre o número de amostras realizadas para cada sistema de abastecimento, avaliando-se somente o número total de amostras que devem ser realizadas pela vigilância municipal.\n",
    "\n",
    "Nos códigos abaixo, a tabela que consta nas diretrizes do Ministério da Saúde foi codificada, possibilitando análises."
   ]
  },
  {
   "cell_type": "code",
   "execution_count": null,
   "id": "1872baa8-5216-4d28-80b2-36c833b762c5",
   "metadata": {},
   "outputs": [],
   "source": [
    "def create_table_cloro():\n",
    "    # Criando tabela\n",
    "    df = pd.DataFrame(\n",
    "        {\n",
    "            'População De': [0, 5001, 10001, 50001, 200001, 500001],\n",
    "            'População Até': [5000, 10000, 50000, 200000, 500000, np.inf],\n",
    "            'Nº de Amostras': [6, 9, '8 + (1 para cada 7,5 mil habitantes)', '10 + (1 para cada 10 mil habitantes)', '20 + (1 para cada 20 mil habitantes)', '35 + (1 para cada 50 mil habitantes)']\n",
    "        }\n",
    "    )\n",
    "\n",
    "    # Criando e Ajustando Coluna Adicional\n",
    "    df['Nº de Amostras Fixo'] = df['Nº de Amostras'].str.split('+').str[0]\n",
    "    df['Nº de Amostras Fixo'] = df['Nº de Amostras Fixo'].fillna(df['Nº de Amostras']).astype(float)\n",
    "\n",
    "    # Criando e Ajustando Coluna Adicional\n",
    "    df['Nº de Amostras Variável'] = df['Nº de Amostras'].str.split('+').str[-1]\n",
    "    df['Nº de Amostras Variável'] = df['Nº de Amostras Variável'].fillna(0)\n",
    "    df['Nº de Amostras Variável'] = df['Nº de Amostras Variável'].replace({'\\(1 para cada': '','mil habitantes\\)': '',',': '.'}, regex=True).astype(float)\n",
    "    df['Nº de Amostras Variável'] = (df['Nº de Amostras Variável']*1000).astype(int)\n",
    "\n",
    "    # Tabela\n",
    "    return df"
   ]
  },
  {
   "cell_type": "markdown",
   "id": "399ee0c1-1534-4907-972f-c4d872194750",
   "metadata": {},
   "source": [
    "<br>\n",
    "\n",
    "Uma vez cofificada, o *campo* descritivo **Nº de Amostras**, que contem o número de análises, foi dividido entre o **Nº de Amostras Fixo** e **Nº de Amostras Variável**, possibilitando a automatização dos cálculos."
   ]
  },
  {
   "cell_type": "code",
   "execution_count": null,
   "id": "6644901e-5025-4968-8c73-ff590ac9d088",
   "metadata": {
    "tags": [
     "remove_cell"
    ]
   },
   "outputs": [],
   "source": [
    "create_table_cloro()"
   ]
  },
  {
   "cell_type": "markdown",
   "id": "cdd707ae-e4c3-42ef-bf06-db15007a2fad",
   "metadata": {},
   "source": [
    "<br>\n",
    "\n",
    "Com a tabela codificada, foi escrita uma função que calcula o número de amostras, seguindo as condições recomendadas pelo Ministério da Sáude."
   ]
  },
  {
   "cell_type": "code",
   "execution_count": null,
   "id": "d482bf51-1dbf-4e8a-a554-d183954b0bae",
   "metadata": {},
   "outputs": [],
   "source": [
    "def numero_amostras_cloro(x):\n",
    "    df_cloro = create_table_cloro()\n",
    "    array = np.where(\n",
    "        (x >= df_cloro['População De']) & (x <= df_cloro['População Até']) & (df_cloro['Nº de Amostras Variável']>0),\n",
    "        (df_cloro['Nº de Amostras Fixo'] + x/(df_cloro['Nº de Amostras Variável'])),\n",
    "        np.where(\n",
    "            (x >= df_cloro['População De']) & (x <= df_cloro['População Até']) & (df_cloro['Nº de Amostras Variável']==0),\n",
    "                 df_cloro['Nº de Amostras Fixo'], np.nan\n",
    "        )\n",
    "    )\n",
    "    array = np.trunc(array)\n",
    "    array = array[~np.isnan(array)]\n",
    "    return array[0]"
   ]
  },
  {
   "cell_type": "markdown",
   "id": "e02af04d-bb77-431b-9b38-e2efc791e222",
   "metadata": {
    "tags": [
     "remove_cell"
    ]
   },
   "source": [
    "<br>\n",
    "\n",
    "### Número de Amostras para Fluoreto\n",
    "\n",
    "\n",
    "![Tabel 2](https://i.imgur.com/JXvIYsK.png)"
   ]
  },
  {
   "cell_type": "code",
   "execution_count": null,
   "id": "11eadb94-78e6-4a48-bef4-249e9ca19fc6",
   "metadata": {},
   "outputs": [],
   "source": [
    "def create_table_fluoreto():\n",
    "    # Criando tabela\n",
    "    df = pd.DataFrame(\n",
    "        {\n",
    "            'População De': [0, 50001, 100001, 100001, 500001, 1000001],\n",
    "            'População Até': [50000, 100000, 200000, 500000, 1000000, np.inf],\n",
    "            'Nº de Amostras': [5, 7, 9, 13, 18, 27]\n",
    "        }\n",
    "    )\n",
    "    # Tabela\n",
    "    return df"
   ]
  },
  {
   "cell_type": "code",
   "execution_count": null,
   "id": "35c5f01a-1078-4cf4-8b57-43073b578a02",
   "metadata": {
    "tags": [
     "remove_cell"
    ]
   },
   "outputs": [],
   "source": [
    "create_table_fluoreto()"
   ]
  },
  {
   "cell_type": "code",
   "execution_count": null,
   "id": "faccc20d-dcc5-4300-b4ea-44d6bb4fc57e",
   "metadata": {},
   "outputs": [],
   "source": [
    "def numero_amostras_fluoreto(x):\n",
    "    df = create_table_fluoreto()\n",
    "    array = np.where(\n",
    "        (x >= df['População De']) & (x <= df['População Até']), df['Nº de Amostras'], np.nan\n",
    "    )\n",
    "    array = np.trunc(array)\n",
    "    array = array[~np.isnan(array)]\n",
    "    return array[0]"
   ]
  },
  {
   "cell_type": "markdown",
   "id": "d9cdc255-7012-44cd-bd94-6233509b1434",
   "metadata": {
    "tags": [
     "remove_cell"
    ]
   },
   "source": [
    "<br>\n",
    "\n",
    "## População\n",
    "\n",
    "Abaixo são demonstrados alguns exemplos de cálculo empregando a tabela codificada e função. A definição do número mínimo de amostras pode ser feita utilizando um número isolado, ou em uma série de dados."
   ]
  },
  {
   "cell_type": "code",
   "execution_count": null,
   "id": "a2e725fd-a6ec-4750-a459-4f456c3ea2ce",
   "metadata": {
    "tags": [
     "remove_cell"
    ]
   },
   "outputs": [],
   "source": [
    "# Usando a função com apenas um número individual\n",
    "população = 300000\n",
    "n_amostras_cloro = numero_amostras_cloro(população)\n",
    "n_amostras_fluoreto = numero_amostras_fluoreto(população)\n",
    "\n",
    "# Results\n",
    "print('Nº de Amostras de Cloro recomendadas para {} habitantes é {}'.format(população, n_amostras_cloro))\n",
    "print('Nº de Amostras de Fluoreto recomendadas para {} habitantes é {}'.format(população, n_amostras_fluoreto))"
   ]
  },
  {
   "cell_type": "code",
   "execution_count": null,
   "id": "2f9e2596-d9bb-48b0-b32c-8f46c3353170",
   "metadata": {
    "tags": [
     "remove_cell"
    ]
   },
   "outputs": [],
   "source": [
    "# Usando a função em uma série\n",
    "df = pd.DataFrame({'População': [1500, 10000, 180000, 350000, 600000, 650000]})\n",
    "df['Nº Amostras Cloro'] = df['População'].apply(lambda x: numero_amostras_cloro(x))\n",
    "df['Nº Amostras Fluoreto'] = df['População'].apply(lambda x: numero_amostras_fluoreto(x))\n",
    "\n",
    "# Results\n",
    "df.head()"
   ]
  },
  {
   "cell_type": "markdown",
   "id": "e2c02171",
   "metadata": {
    "pycharm": {
     "name": "#%% md\n"
    }
   },
   "source": [
    "<br>\n",
    "\n",
    "## Gráfico\n",
    "\n",
    "Visando compreender como se dá a distribuição do número de amostras em função do aumento da população, foi elaborado um gráfico que demonstra que o número de amostras tem um crescimento logaritmico, ou seja, para municípios com população até 200.000 hab há um aumento continuo do número de amostras, até 500.000 habitantes o aumento do número de amostras não segue a mesma tendância, sendo reduzido. Em municípios com mais de 500.000 o aumento do número de amostras é ainda menor."
   ]
  },
  {
   "cell_type": "code",
   "execution_count": null,
   "id": "52b6b750-ce77-47cb-801d-aebba66f1478",
   "metadata": {
    "tags": [
     "remove_cell"
    ]
   },
   "outputs": [],
   "source": [
    "# Cria tabela com população\n",
    "df = pd.Series(np.arange(1000, 2000000, 3000)).array\n",
    "df = pd.DataFrame(df, columns=['n_habitantes'])\n",
    "\n",
    "# Ajustes da tabela\n",
    "df['n_habitantes'] = df['n_habitantes'].astype(int)\n",
    "df['Nº Amostras Cloro'] = df['n_habitantes'].apply(lambda x: numero_amostras_cloro(x))\n",
    "df['Nº Amostras Fluoreto'] = df['n_habitantes'].apply(lambda x: numero_amostras_fluoreto(x))"
   ]
  },
  {
   "cell_type": "code",
   "execution_count": null,
   "id": "b69d7bec-b6ad-46b4-b9ec-6764f2c38ed0",
   "metadata": {
    "tags": [
     "remove_cell"
    ]
   },
   "outputs": [],
   "source": [
    "# Criando gráfico\n",
    "fig = go.Figure()\n",
    "\n",
    "# Trace\n",
    "fig.add_trace(\n",
    "    go.Scatter(\n",
    "        x=df['n_habitantes'],\n",
    "        y=df['Nº Amostras Cloro'],\n",
    "        name='Nº Amostras Cloro Residual, Turbidez, Coliformes, E. coli',\n",
    "        mode='lines',\n",
    "        marker={'color': 'blue'},\n",
    "        opacity=0.8,\n",
    "        #hovertemplate='s',\n",
    "        #hovertemplate=\"$%{y}<br>Date: %{x}\"\n",
    "        hovertemplate=\"%{y}\"\n",
    "    )\n",
    ")\n",
    "# Trace\n",
    "fig.add_trace(\n",
    "    go.Scatter(\n",
    "        x=df['n_habitantes'],\n",
    "        y=df['Nº Amostras Fluoreto'],\n",
    "        name='Nº Amostras Fluoreto',\n",
    "        mode='lines',\n",
    "        marker={'color': 'red'},\n",
    "        opacity=0.8,\n",
    "        hovertemplate=\"%{y}\"\n",
    "    )\n",
    ")\n",
    "\n",
    "# Update Layout\n",
    "fig.update_layout(\n",
    "    title='Nº de Amostras Mensais por População',\n",
    "    xaxis={'title': 'Nº de Habitantes'},\n",
    "    yaxis={'title': 'Nº de Amostras'},\n",
    "    height=600,\n",
    "    separators=',.',\n",
    "    paper_bgcolor='rgba(0,0,0,0)',\n",
    "    yaxis_tickformat=',.2r',\n",
    "    xaxis_tickformat=',.2r',\n",
    "    dragmode=False,\n",
    "    #hovermode='closest',\n",
    "    hovermode='x',\n",
    "    #hoverinfo= \"name+x+text\",\n",
    "    #hovermode='x unified',\n",
    "    #hoverlabel='ssss',\n",
    "    legend=dict(\n",
    "        yanchor='top',\n",
    "        y=1,\n",
    "        xanchor='left',\n",
    "        x=0.0\n",
    "    )\n",
    ")\n",
    "\n",
    "# Graph\n",
    "config = {\n",
    "    'displaylogo': False,\n",
    "    #'scrollZoom': True,\n",
    "    'responsive': False,\n",
    "}\n",
    "fig.write_html(os.path.join(output_path_graph, 'n_amostras_habitantes.html'), config=config)\n",
    "fig.write_image(os.path.join(output_path_graph, 'n_amostras_habitantes.png'), width=800, height=500, scale=1)\n",
    "\n",
    "fig.show(config=config)"
   ]
  },
  {
   "cell_type": "markdown",
   "id": "17a35e78-9bb6-4fa2-ad66-3aca712cd62d",
   "metadata": {
    "tags": [
     "remove_cell"
    ]
   },
   "source": [
    "<br>\n",
    "\n",
    "# Export"
   ]
  },
  {
   "cell_type": "code",
   "execution_count": null,
   "id": "d84bbcc4-2e99-42bb-83a1-eec080e96fcb",
   "metadata": {
    "tags": [
     "remove_cell"
    ]
   },
   "outputs": [],
   "source": [
    "import os\n",
    "from traitlets.config import Config\n",
    "from nbconvert import PythonExporter\n",
    "from nbconvert.preprocessors import TagRemovePreprocessor"
   ]
  },
  {
   "cell_type": "code",
   "execution_count": null,
   "id": "a3e5f7c7-3ce7-4150-a60f-b9ff6952e824",
   "metadata": {
    "tags": [
     "remove_cell"
    ]
   },
   "outputs": [],
   "source": [
    "input_filepath = os.path.join(os.getcwd(), '01_diretriz.ipynb')\n",
    "output_filepath = os.path.abspath(os.path.join(os.getcwd(), '..', 'src', 'normas', 'diretriz.py'))\n",
    "print(output_filepath)"
   ]
  },
  {
   "cell_type": "code",
   "execution_count": null,
   "id": "c7be1620-c89e-4db7-93b9-f2213ae6393e",
   "metadata": {
    "tags": [
     "remove_cell"
    ]
   },
   "outputs": [],
   "source": [
    "# Import the exporter\n",
    "c = Config()\n",
    "c.TagRemovePreprocessor.enabled=True\n",
    "c.ClearOutputPreprocessor.enabled=True\n",
    "c.TemplateExporter.exclude_markdown=True\n",
    "c.TemplateExporter.exclude_code_cell=False\n",
    "c.TemplateExporter.exclude_input_prompt=True\n",
    "c.TemplateExporter.exclude_output=True\n",
    "c.TemplateExporter.exclude_raw=True\n",
    "c.TagRemovePreprocessor.remove_cell_tags = ('remove_cell',)\n",
    "c.TagRemovePreprocessor.remove_input_tags = ('remove_cell',)\n",
    "c.TagRemovePreprocessor.remove_all_outputs_tags = ('remove_output',)\n",
    "c.preprocessors = ['TagRemovePreprocessor']\n",
    "c.PythonExporter.preprocessors = ['nbconvert.preprocessors.TagRemovePreprocessor']\n",
    "\n",
    "# Configure and run out exporter\n",
    "py_exporter = PythonExporter(config=c)\n",
    "py_exporter.register_preprocessor(TagRemovePreprocessor(config=c), True)\n",
    "\n",
    "# Configure and run out exporter - returns a tuple - first element with html, second with notebook metadata\n",
    "body, metadata = PythonExporter(config=c).from_filename(input_filepath)\n",
    "\n",
    "# Write to output html file\n",
    "with open(output_filepath,  'w', encoding='utf-8') as f:\n",
    "    f.write(body)"
   ]
  },
  {
   "cell_type": "code",
   "execution_count": null,
   "id": "48ca5191-f6ee-4228-bc34-80db98716d77",
   "metadata": {},
   "outputs": [],
   "source": []
  }
 ],
 "metadata": {
  "kernelspec": {
   "display_name": "Python 3 (ipykernel)",
   "language": "python",
   "name": "python3"
  },
  "language_info": {
   "codemirror_mode": {
    "name": "ipython",
    "version": 3
   },
   "file_extension": ".py",
   "mimetype": "text/x-python",
   "name": "python",
   "nbconvert_exporter": "python",
   "pygments_lexer": "ipython3",
   "version": "3.9.10"
  },
  "toc-autonumbering": true
 },
 "nbformat": 4,
 "nbformat_minor": 5
}
