{
 "cells": [
  {
   "cell_type": "markdown",
   "id": "dda1023b-5ed6-4a57-ae9c-db6505028ac8",
   "metadata": {},
   "source": [
    "<br>\n",
    "\n",
    "# Introdução"
   ]
  },
  {
   "cell_type": "code",
   "execution_count": 4,
   "id": "3f7706cc-6eaf-4eb3-944c-00537ccffcb9",
   "metadata": {},
   "outputs": [
    {
     "ename": "ModuleNotFoundError",
     "evalue": "No module named 'diretriz_vigilancia'",
     "output_type": "error",
     "traceback": [
      "\u001B[0;31m---------------------------------------------------------------------------\u001B[0m",
      "\u001B[0;31mModuleNotFoundError\u001B[0m                       Traceback (most recent call last)",
      "Input \u001B[0;32mIn [4]\u001B[0m, in \u001B[0;36m<cell line: 1>\u001B[0;34m()\u001B[0m\n\u001B[0;32m----> 1\u001B[0m \u001B[38;5;28;01mfrom\u001B[39;00m \u001B[38;5;21;01mdiretriz_vigilancia\u001B[39;00m \u001B[38;5;28;01mimport\u001B[39;00m \u001B[38;5;241m*\u001B[39m\n\u001B[1;32m      2\u001B[0m \u001B[38;5;28;01mfrom\u001B[39;00m \u001B[38;5;21;01mopen_geodata\u001B[39;00m \u001B[38;5;28;01mimport\u001B[39;00m ibge\n",
      "\u001B[0;31mModuleNotFoundError\u001B[0m: No module named 'diretriz_vigilancia'"
     ]
    }
   ],
   "source": [
    "from normas import diretriz_vigilancia\n",
    "from open_geodata import ibge"
   ]
  },
  {
   "cell_type": "markdown",
   "id": "fae69af5-f9af-42f8-9a95-e8ac8bbd0750",
   "metadata": {},
   "source": [
    "<br>\n",
    "\n",
    "## Definição da População\n",
    "\n",
    "Foram obtidos dados sobre a estimativa da população no município por meio do [*site* do IGBE](https://sidra.ibge.gov.br/pesquisa/estimapop/tabelas), editados e corrigidos conforme repositŕio que criei no [GitHub](https://github.com/michelmetran/data_population). A partir dessa informação foi possível calcular o número de amostras mensais, bem como o número de amostras anuais que deveria ser realizada pela vigilância sanitária municipal.\n",
    "\n",
    "**Observação**: os anos de 2007 e 2010 não aparecem nas estimativas populacionais divulgadas pelo IBGE, visto que nestes anos foram realizados censos populacionais. Como tais datas estão bastante distantes da atualidade, não se dispenderá esforços, nesse momento, para obtê-los e compor a série histórica."
   ]
  },
  {
   "cell_type": "code",
   "execution_count": 2,
   "id": "ece4ee0d-227e-4b1f-8f39-c01dcb9edcd4",
   "metadata": {},
   "outputs": [
    {
     "data": {
      "text/plain": "    id_municipio municipio_nome  n_habitantes   ano\n0        3526902   Limeira (SP)        253649  2001\n1        3526902   Limeira (SP)        257731  2002\n2        3526902   Limeira (SP)        261761  2003\n3        3526902   Limeira (SP)        270223  2004\n4        3526902   Limeira (SP)        274906  2005\n5        3526902   Limeira (SP)        279554  2006\n6        3526902   Limeira (SP)        278776  2008\n7        3526902   Limeira (SP)        281583  2009\n8        3526902   Limeira (SP)        278093  2011\n9        3526902   Limeira (SP)        280096  2012\n10       3526902   Limeira (SP)        291748  2013\n11       3526902   Limeira (SP)        294128  2014\n12       3526902   Limeira (SP)        296440  2015\n13       3526902   Limeira (SP)        298701  2016\n14       3526902   Limeira (SP)        300911  2017\n15       3526902   Limeira (SP)        303682  2018\n16       3526902   Limeira (SP)        306114  2019\n17       3526902   Limeira (SP)        308482  2020\n18       3526902   Limeira (SP)        310783  2021",
      "text/html": "<div>\n<style scoped>\n    .dataframe tbody tr th:only-of-type {\n        vertical-align: middle;\n    }\n\n    .dataframe tbody tr th {\n        vertical-align: top;\n    }\n\n    .dataframe thead th {\n        text-align: right;\n    }\n</style>\n<table border=\"1\" class=\"dataframe\">\n  <thead>\n    <tr style=\"text-align: right;\">\n      <th></th>\n      <th>id_municipio</th>\n      <th>municipio_nome</th>\n      <th>n_habitantes</th>\n      <th>ano</th>\n    </tr>\n  </thead>\n  <tbody>\n    <tr>\n      <th>0</th>\n      <td>3526902</td>\n      <td>Limeira (SP)</td>\n      <td>253649</td>\n      <td>2001</td>\n    </tr>\n    <tr>\n      <th>1</th>\n      <td>3526902</td>\n      <td>Limeira (SP)</td>\n      <td>257731</td>\n      <td>2002</td>\n    </tr>\n    <tr>\n      <th>2</th>\n      <td>3526902</td>\n      <td>Limeira (SP)</td>\n      <td>261761</td>\n      <td>2003</td>\n    </tr>\n    <tr>\n      <th>3</th>\n      <td>3526902</td>\n      <td>Limeira (SP)</td>\n      <td>270223</td>\n      <td>2004</td>\n    </tr>\n    <tr>\n      <th>4</th>\n      <td>3526902</td>\n      <td>Limeira (SP)</td>\n      <td>274906</td>\n      <td>2005</td>\n    </tr>\n    <tr>\n      <th>5</th>\n      <td>3526902</td>\n      <td>Limeira (SP)</td>\n      <td>279554</td>\n      <td>2006</td>\n    </tr>\n    <tr>\n      <th>6</th>\n      <td>3526902</td>\n      <td>Limeira (SP)</td>\n      <td>278776</td>\n      <td>2008</td>\n    </tr>\n    <tr>\n      <th>7</th>\n      <td>3526902</td>\n      <td>Limeira (SP)</td>\n      <td>281583</td>\n      <td>2009</td>\n    </tr>\n    <tr>\n      <th>8</th>\n      <td>3526902</td>\n      <td>Limeira (SP)</td>\n      <td>278093</td>\n      <td>2011</td>\n    </tr>\n    <tr>\n      <th>9</th>\n      <td>3526902</td>\n      <td>Limeira (SP)</td>\n      <td>280096</td>\n      <td>2012</td>\n    </tr>\n    <tr>\n      <th>10</th>\n      <td>3526902</td>\n      <td>Limeira (SP)</td>\n      <td>291748</td>\n      <td>2013</td>\n    </tr>\n    <tr>\n      <th>11</th>\n      <td>3526902</td>\n      <td>Limeira (SP)</td>\n      <td>294128</td>\n      <td>2014</td>\n    </tr>\n    <tr>\n      <th>12</th>\n      <td>3526902</td>\n      <td>Limeira (SP)</td>\n      <td>296440</td>\n      <td>2015</td>\n    </tr>\n    <tr>\n      <th>13</th>\n      <td>3526902</td>\n      <td>Limeira (SP)</td>\n      <td>298701</td>\n      <td>2016</td>\n    </tr>\n    <tr>\n      <th>14</th>\n      <td>3526902</td>\n      <td>Limeira (SP)</td>\n      <td>300911</td>\n      <td>2017</td>\n    </tr>\n    <tr>\n      <th>15</th>\n      <td>3526902</td>\n      <td>Limeira (SP)</td>\n      <td>303682</td>\n      <td>2018</td>\n    </tr>\n    <tr>\n      <th>16</th>\n      <td>3526902</td>\n      <td>Limeira (SP)</td>\n      <td>306114</td>\n      <td>2019</td>\n    </tr>\n    <tr>\n      <th>17</th>\n      <td>3526902</td>\n      <td>Limeira (SP)</td>\n      <td>308482</td>\n      <td>2020</td>\n    </tr>\n    <tr>\n      <th>18</th>\n      <td>3526902</td>\n      <td>Limeira (SP)</td>\n      <td>310783</td>\n      <td>2021</td>\n    </tr>\n  </tbody>\n</table>\n</div>"
     },
     "execution_count": 2,
     "metadata": {},
     "output_type": "execute_result"
    }
   ],
   "source": [
    "cod_ibge = '3526902' # Limeira\n",
    "df = ibge.get_estimated_population(cod_ibge)\n",
    "df"
   ]
  },
  {
   "cell_type": "code",
   "execution_count": 3,
   "id": "9138c0da-667b-4f2c-ba79-69411ad7c46a",
   "metadata": {},
   "outputs": [
    {
     "ename": "NameError",
     "evalue": "name 'numero_amostras_cloro' is not defined",
     "output_type": "error",
     "traceback": [
      "\u001B[0;31m---------------------------------------------------------------------------\u001B[0m",
      "\u001B[0;31mNameError\u001B[0m                                 Traceback (most recent call last)",
      "Input \u001B[0;32mIn [3]\u001B[0m, in \u001B[0;36m<cell line: 2>\u001B[0;34m()\u001B[0m\n\u001B[1;32m      1\u001B[0m \u001B[38;5;66;03m# Cálculos\u001B[39;00m\n\u001B[0;32m----> 2\u001B[0m df[\u001B[38;5;124m'\u001B[39m\u001B[38;5;124mn_amostras_mensais_cloro\u001B[39m\u001B[38;5;124m'\u001B[39m] \u001B[38;5;241m=\u001B[39m \u001B[43mdf\u001B[49m\u001B[43m[\u001B[49m\u001B[38;5;124;43m'\u001B[39;49m\u001B[38;5;124;43mn_habitantes\u001B[39;49m\u001B[38;5;124;43m'\u001B[39;49m\u001B[43m]\u001B[49m\u001B[38;5;241;43m.\u001B[39;49m\u001B[43mapply\u001B[49m\u001B[43m(\u001B[49m\u001B[38;5;28;43;01mlambda\u001B[39;49;00m\u001B[43m \u001B[49m\u001B[43mx\u001B[49m\u001B[43m:\u001B[49m\u001B[43m \u001B[49m\u001B[43mnumero_amostras_cloro\u001B[49m\u001B[43m(\u001B[49m\u001B[43mx\u001B[49m\u001B[43m)\u001B[49m\u001B[43m)\u001B[49m\n\u001B[1;32m      3\u001B[0m df[\u001B[38;5;124m'\u001B[39m\u001B[38;5;124mn_amostras_anuais_cloro\u001B[39m\u001B[38;5;124m'\u001B[39m] \u001B[38;5;241m=\u001B[39m df[\u001B[38;5;124m'\u001B[39m\u001B[38;5;124mn_amostras_mensais_cloro\u001B[39m\u001B[38;5;124m'\u001B[39m]\u001B[38;5;241m*\u001B[39m\u001B[38;5;241m12\u001B[39m\n\u001B[1;32m      5\u001B[0m \u001B[38;5;66;03m# dtypes\u001B[39;00m\n",
      "File \u001B[0;32m~/Documents/conda/envs/pablocarreira-py39/lib/python3.9/site-packages/pandas/core/series.py:4138\u001B[0m, in \u001B[0;36mSeries.apply\u001B[0;34m(self, func, convert_dtype, args, **kwds)\u001B[0m\n\u001B[1;32m   4136\u001B[0m     \u001B[38;5;28;01melse\u001B[39;00m:\n\u001B[1;32m   4137\u001B[0m         values \u001B[38;5;241m=\u001B[39m \u001B[38;5;28mself\u001B[39m\u001B[38;5;241m.\u001B[39mastype(\u001B[38;5;28mobject\u001B[39m)\u001B[38;5;241m.\u001B[39m_values\n\u001B[0;32m-> 4138\u001B[0m         mapped \u001B[38;5;241m=\u001B[39m \u001B[43mlib\u001B[49m\u001B[38;5;241;43m.\u001B[39;49m\u001B[43mmap_infer\u001B[49m\u001B[43m(\u001B[49m\u001B[43mvalues\u001B[49m\u001B[43m,\u001B[49m\u001B[43m \u001B[49m\u001B[43mf\u001B[49m\u001B[43m,\u001B[49m\u001B[43m \u001B[49m\u001B[43mconvert\u001B[49m\u001B[38;5;241;43m=\u001B[39;49m\u001B[43mconvert_dtype\u001B[49m\u001B[43m)\u001B[49m\n\u001B[1;32m   4140\u001B[0m \u001B[38;5;28;01mif\u001B[39;00m \u001B[38;5;28mlen\u001B[39m(mapped) \u001B[38;5;129;01mand\u001B[39;00m \u001B[38;5;28misinstance\u001B[39m(mapped[\u001B[38;5;241m0\u001B[39m], Series):\n\u001B[1;32m   4141\u001B[0m     \u001B[38;5;66;03m# GH 25959 use pd.array instead of tolist\u001B[39;00m\n\u001B[1;32m   4142\u001B[0m     \u001B[38;5;66;03m# so extension arrays can be used\u001B[39;00m\n\u001B[1;32m   4143\u001B[0m     \u001B[38;5;28;01mreturn\u001B[39;00m \u001B[38;5;28mself\u001B[39m\u001B[38;5;241m.\u001B[39m_constructor_expanddim(pd_array(mapped), index\u001B[38;5;241m=\u001B[39m\u001B[38;5;28mself\u001B[39m\u001B[38;5;241m.\u001B[39mindex)\n",
      "File \u001B[0;32mpandas/_libs/lib.pyx:2467\u001B[0m, in \u001B[0;36mpandas._libs.lib.map_infer\u001B[0;34m()\u001B[0m\n",
      "Input \u001B[0;32mIn [3]\u001B[0m, in \u001B[0;36m<lambda>\u001B[0;34m(x)\u001B[0m\n\u001B[1;32m      1\u001B[0m \u001B[38;5;66;03m# Cálculos\u001B[39;00m\n\u001B[0;32m----> 2\u001B[0m df[\u001B[38;5;124m'\u001B[39m\u001B[38;5;124mn_amostras_mensais_cloro\u001B[39m\u001B[38;5;124m'\u001B[39m] \u001B[38;5;241m=\u001B[39m df[\u001B[38;5;124m'\u001B[39m\u001B[38;5;124mn_habitantes\u001B[39m\u001B[38;5;124m'\u001B[39m]\u001B[38;5;241m.\u001B[39mapply(\u001B[38;5;28;01mlambda\u001B[39;00m x: \u001B[43mnumero_amostras_cloro\u001B[49m(x))\n\u001B[1;32m      3\u001B[0m df[\u001B[38;5;124m'\u001B[39m\u001B[38;5;124mn_amostras_anuais_cloro\u001B[39m\u001B[38;5;124m'\u001B[39m] \u001B[38;5;241m=\u001B[39m df[\u001B[38;5;124m'\u001B[39m\u001B[38;5;124mn_amostras_mensais_cloro\u001B[39m\u001B[38;5;124m'\u001B[39m]\u001B[38;5;241m*\u001B[39m\u001B[38;5;241m12\u001B[39m\n\u001B[1;32m      5\u001B[0m \u001B[38;5;66;03m# dtypes\u001B[39;00m\n",
      "\u001B[0;31mNameError\u001B[0m: name 'numero_amostras_cloro' is not defined"
     ]
    }
   ],
   "source": [
    "# Cálculos\n",
    "df['n_amostras_mensais_cloro'] = df['n_habitantes'].apply(lambda x: numero_amostras_cloro(x))\n",
    "df['n_amostras_anuais_cloro'] = df['n_amostras_mensais_cloro']*12\n",
    "\n",
    "# dtypes\n",
    "df['n_amostras_mensais_cloro'] = df['n_amostras_mensais_cloro'].astype(int)\n",
    "df['n_amostras_anuais_cloro'] = df['n_amostras_anuais_cloro'].astype(int)\n",
    "\n",
    "# Results\n",
    "df.head()"
   ]
  },
  {
   "cell_type": "code",
   "execution_count": 4,
   "id": "929c2f47-5875-4c0f-bd21-0bb817cec664",
   "metadata": {
    "pycharm": {
     "name": "#%%\n"
    }
   },
   "outputs": [
    {
     "data": {
      "text/html": [
       "<div>\n",
       "<style scoped>\n",
       "    .dataframe tbody tr th:only-of-type {\n",
       "        vertical-align: middle;\n",
       "    }\n",
       "\n",
       "    .dataframe tbody tr th {\n",
       "        vertical-align: top;\n",
       "    }\n",
       "\n",
       "    .dataframe thead th {\n",
       "        text-align: right;\n",
       "    }\n",
       "</style>\n",
       "<table border=\"1\" class=\"dataframe\">\n",
       "  <thead>\n",
       "    <tr style=\"text-align: right;\">\n",
       "      <th></th>\n",
       "      <th>id_municipio</th>\n",
       "      <th>municipio_nome</th>\n",
       "      <th>n_habitantes</th>\n",
       "      <th>ano</th>\n",
       "      <th>n_amostras_mensais_cloro</th>\n",
       "      <th>n_amostras_anuais_cloro</th>\n",
       "      <th>n_amostras_mensais_fluoreto</th>\n",
       "      <th>n_amostras_anuais_fluoreto</th>\n",
       "    </tr>\n",
       "  </thead>\n",
       "  <tbody>\n",
       "    <tr>\n",
       "      <th>0</th>\n",
       "      <td>3526902</td>\n",
       "      <td>Limeira (SP)</td>\n",
       "      <td>253649</td>\n",
       "      <td>2001</td>\n",
       "      <td>32</td>\n",
       "      <td>384</td>\n",
       "      <td>13</td>\n",
       "      <td>156</td>\n",
       "    </tr>\n",
       "    <tr>\n",
       "      <th>1</th>\n",
       "      <td>3526902</td>\n",
       "      <td>Limeira (SP)</td>\n",
       "      <td>257731</td>\n",
       "      <td>2002</td>\n",
       "      <td>32</td>\n",
       "      <td>384</td>\n",
       "      <td>13</td>\n",
       "      <td>156</td>\n",
       "    </tr>\n",
       "    <tr>\n",
       "      <th>2</th>\n",
       "      <td>3526902</td>\n",
       "      <td>Limeira (SP)</td>\n",
       "      <td>261761</td>\n",
       "      <td>2003</td>\n",
       "      <td>33</td>\n",
       "      <td>396</td>\n",
       "      <td>13</td>\n",
       "      <td>156</td>\n",
       "    </tr>\n",
       "    <tr>\n",
       "      <th>3</th>\n",
       "      <td>3526902</td>\n",
       "      <td>Limeira (SP)</td>\n",
       "      <td>270223</td>\n",
       "      <td>2004</td>\n",
       "      <td>33</td>\n",
       "      <td>396</td>\n",
       "      <td>13</td>\n",
       "      <td>156</td>\n",
       "    </tr>\n",
       "    <tr>\n",
       "      <th>4</th>\n",
       "      <td>3526902</td>\n",
       "      <td>Limeira (SP)</td>\n",
       "      <td>274906</td>\n",
       "      <td>2005</td>\n",
       "      <td>33</td>\n",
       "      <td>396</td>\n",
       "      <td>13</td>\n",
       "      <td>156</td>\n",
       "    </tr>\n",
       "  </tbody>\n",
       "</table>\n",
       "</div>"
      ],
      "text/plain": [
       "   id_municipio municipio_nome  n_habitantes   ano  n_amostras_mensais_cloro  \\\n",
       "0       3526902   Limeira (SP)        253649  2001                        32   \n",
       "1       3526902   Limeira (SP)        257731  2002                        32   \n",
       "2       3526902   Limeira (SP)        261761  2003                        33   \n",
       "3       3526902   Limeira (SP)        270223  2004                        33   \n",
       "4       3526902   Limeira (SP)        274906  2005                        33   \n",
       "\n",
       "   n_amostras_anuais_cloro  n_amostras_mensais_fluoreto  \\\n",
       "0                      384                           13   \n",
       "1                      384                           13   \n",
       "2                      396                           13   \n",
       "3                      396                           13   \n",
       "4                      396                           13   \n",
       "\n",
       "   n_amostras_anuais_fluoreto  \n",
       "0                         156  \n",
       "1                         156  \n",
       "2                         156  \n",
       "3                         156  \n",
       "4                         156  "
      ]
     },
     "execution_count": 4,
     "metadata": {},
     "output_type": "execute_result"
    }
   ],
   "source": [
    "# Cálculos\n",
    "df['n_amostras_mensais_fluoreto'] = df['n_habitantes'].apply(lambda x: numero_amostras_fluoreto(x))\n",
    "df['n_amostras_anuais_fluoreto'] = df['n_amostras_mensais_fluoreto']*12\n",
    "\n",
    "# dtypes\n",
    "df['n_amostras_mensais_fluoreto'] = df['n_amostras_mensais_fluoreto'].astype(int)\n",
    "df['n_amostras_anuais_fluoreto'] = df['n_amostras_anuais_fluoreto'].astype(int)\n",
    "\n",
    "# Results\n",
    "df.head()\n"
   ]
  }
 ],
 "metadata": {
  "kernelspec": {
   "name": "python3",
   "language": "python",
   "display_name": "Python 3 (ipykernel)"
  },
  "language_info": {
   "codemirror_mode": {
    "name": "ipython",
    "version": 3
   },
   "file_extension": ".py",
   "mimetype": "text/x-python",
   "name": "python",
   "nbconvert_exporter": "python",
   "pygments_lexer": "ipython3",
   "version": "3.9.10"
  },
  "toc-autonumbering": true
 },
 "nbformat": 4,
 "nbformat_minor": 5
}