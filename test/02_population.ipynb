{
 "cells": [
  {
   "cell_type": "markdown",
   "id": "dda1023b-5ed6-4a57-ae9c-db6505028ac8",
   "metadata": {},
   "source": [
    "<br>\n",
    "\n",
    "# Introdução"
   ]
  },
  {
   "cell_type": "code",
   "execution_count": null,
   "id": "3f7706cc-6eaf-4eb3-944c-00537ccffcb9",
   "metadata": {},
   "outputs": [],
   "source": [
    "from paths import *\n",
    "from diretriz import *\n",
    "from estimated_population import *"
   ]
  },
  {
   "cell_type": "markdown",
   "id": "fae69af5-f9af-42f8-9a95-e8ac8bbd0750",
   "metadata": {},
   "source": [
    "<br>\n",
    "\n",
    "## Definição da População\n",
    "\n",
    "Foram obtidos dados sobre a estimativa da população no município por meio do [*site* do IGBE](https://sidra.ibge.gov.br/pesquisa/estimapop/tabelas), editados e corrigidos conforme repositŕio que criei no [GitHub](https://github.com/michelmetran/data_population). A partir dessa informação foi possível calcular o número de amostras mensais, bem como o número de amostras anuais que deveria ser realizada pela vigilância sanitária municipal.\n",
    "\n",
    "**Observação**: os anos de 2007 e 2010 não aparecem nas estimativas populacionais divulgadas pelo IBGE, visto que nestes anos foram realizados censos populacionais. Como tais datas estão bastante distantes da atualidade, não se dispenderá esforços, nesse momento, para obtê-los e compor a série histórica."
   ]
  },
  {
   "cell_type": "code",
   "execution_count": null,
   "id": "ece4ee0d-227e-4b1f-8f39-c01dcb9edcd4",
   "metadata": {},
   "outputs": [],
   "source": [
    "cod_ibge = '3526902' # Limeira\n",
    "df = get_estimated_population(cod_ibge)"
   ]
  },
  {
   "cell_type": "code",
   "execution_count": null,
   "id": "9138c0da-667b-4f2c-ba79-69411ad7c46a",
   "metadata": {},
   "outputs": [],
   "source": [
    "# Cálculos\n",
    "df['n_amostras_mensais_cloro'] = df['n_habitantes'].apply(lambda x: numero_amostras_cloro(x))\n",
    "df['n_amostras_anuais_cloro'] = df['n_amostras_mensais_cloro']*12\n",
    "\n",
    "# dtypes\n",
    "df['n_amostras_mensais_cloro'] = df['n_amostras_mensais_cloro'].astype(int)\n",
    "df['n_amostras_anuais_cloro'] = df['n_amostras_anuais_cloro'].astype(int)\n",
    "\n",
    "# Results\n",
    "df.head()"
   ]
  },
  {
   "cell_type": "code",
   "execution_count": null,
   "id": "929c2f47-5875-4c0f-bd21-0bb817cec664",
   "metadata": {},
   "outputs": [],
   "source": [
    "# Cálculos\n",
    "df['n_amostras_mensais_fluoreto'] = df['n_habitantes'].apply(lambda x: numero_amostras_fluoreto(x))\n",
    "df['n_amostras_anuais_fluoreto'] = df['n_amostras_mensais_fluoreto']*12\n",
    "\n",
    "# dtypes\n",
    "df['n_amostras_mensais_fluoreto'] = df['n_amostras_mensais_fluoreto'].astype(int)\n",
    "df['n_amostras_anuais_fluoreto'] = df['n_amostras_anuais_fluoreto'].astype(int)\n",
    "\n",
    "# Results\n",
    "df.head()"
   ]
  },
  {
   "cell_type": "code",
   "execution_count": null,
   "id": "c09d3f48-4330-42e2-954d-e660557896d0",
   "metadata": {},
   "outputs": [],
   "source": []
  }
 ],
 "metadata": {
  "kernelspec": {
   "display_name": "Python [conda env:pablocarreira-py39] *",
   "language": "python",
   "name": "conda-env-pablocarreira-py39-py"
  },
  "language_info": {
   "codemirror_mode": {
    "name": "ipython",
    "version": 3
   },
   "file_extension": ".py",
   "mimetype": "text/x-python",
   "name": "python",
   "nbconvert_exporter": "python",
   "pygments_lexer": "ipython3",
   "version": "3.9.10"
  },
  "toc-autonumbering": true
 },
 "nbformat": 4,
 "nbformat_minor": 5
}
